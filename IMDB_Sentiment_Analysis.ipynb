{
  "nbformat": 4,
  "nbformat_minor": 0,
  "metadata": {
    "colab": {
      "name": "IMDB Sentiment Analysis.ipynb",
      "provenance": [],
      "collapsed_sections": [],
      "authorship_tag": "ABX9TyNiuyYUT1cfLxwhiIQaaQhz",
      "include_colab_link": true
    },
    "kernelspec": {
      "name": "python3",
      "display_name": "Python 3"
    }
  },
  "cells": [
    {
      "cell_type": "markdown",
      "metadata": {
        "id": "view-in-github",
        "colab_type": "text"
      },
      "source": [
        "<a href=\"https://colab.research.google.com/github/sudevansujit/IMDB_Sentiment_Analysis/blob/master/IMDB_Sentiment_Analysis.ipynb\" target=\"_parent\"><img src=\"https://colab.research.google.com/assets/colab-badge.svg\" alt=\"Open In Colab\"/></a>"
      ]
    },
    {
      "cell_type": "code",
      "metadata": {
        "id": "TcwuIASLz0Gq",
        "colab_type": "code",
        "colab": {}
      },
      "source": [
        "IMDB Sentiment Analysis"
      ],
      "execution_count": null,
      "outputs": []
    },
    {
      "cell_type": "markdown",
      "metadata": {
        "id": "UG_gA2Em5q-F",
        "colab_type": "text"
      },
      "source": [
        "**IMDB** Sentiment **Analysis**"
      ]
    },
    {
      "cell_type": "code",
      "metadata": {
        "id": "PjdaAUborS36",
        "colab_type": "code",
        "colab": {}
      },
      "source": [
        "# Code to read csv file into colaboratory:\n",
        "!pip install -U -q PyDrive\n",
        "from pydrive.auth import GoogleAuth\n",
        "from pydrive.drive import GoogleDrive\n",
        "from google.colab import auth\n",
        "from oauth2client.client import GoogleCredentials"
      ],
      "execution_count": 1,
      "outputs": []
    },
    {
      "cell_type": "code",
      "metadata": {
        "id": "v9dghXX25xc4",
        "colab_type": "code",
        "colab": {}
      },
      "source": [
        "auth.authenticate_user()\n",
        "gauth = GoogleAuth()\n",
        "gauth.credentials = GoogleCredentials.get_application_default()\n",
        "drive = GoogleDrive(gauth)"
      ],
      "execution_count": 2,
      "outputs": []
    },
    {
      "cell_type": "code",
      "metadata": {
        "id": "sdA82ImV509A",
        "colab_type": "code",
        "colab": {}
      },
      "source": [
        "downloaded = drive.CreateFile({'id':'1mBFPNOxy_O4mh8DWPD_4FNzDXmpJ0fn-'}) # replace the id with id of file you want to access\n",
        "downloaded.GetContentFile('Cleaned_IMDB.csv')"
      ],
      "execution_count": 4,
      "outputs": []
    },
    {
      "cell_type": "code",
      "metadata": {
        "id": "5hGQ53cz6gk4",
        "colab_type": "code",
        "colab": {
          "base_uri": "https://localhost:8080/",
          "height": 204
        },
        "outputId": "fe88c281-cc4a-430e-ca8a-01b184b5574f"
      },
      "source": [
        "import pandas as pd\n",
        "import numpy as np\n",
        "\n",
        "data = pd.read_csv('Cleaned_IMDB.csv', index_col = 'Unnamed: 0')\n",
        "data.head()"
      ],
      "execution_count": 9,
      "outputs": [
        {
          "output_type": "execute_result",
          "data": {
            "text/html": [
              "<div>\n",
              "<style scoped>\n",
              "    .dataframe tbody tr th:only-of-type {\n",
              "        vertical-align: middle;\n",
              "    }\n",
              "\n",
              "    .dataframe tbody tr th {\n",
              "        vertical-align: top;\n",
              "    }\n",
              "\n",
              "    .dataframe thead th {\n",
              "        text-align: right;\n",
              "    }\n",
              "</style>\n",
              "<table border=\"1\" class=\"dataframe\">\n",
              "  <thead>\n",
              "    <tr style=\"text-align: right;\">\n",
              "      <th></th>\n",
              "      <th>Texts</th>\n",
              "      <th>Labels</th>\n",
              "      <th>Text</th>\n",
              "    </tr>\n",
              "  </thead>\n",
              "  <tbody>\n",
              "    <tr>\n",
              "      <th>18857</th>\n",
              "      <td>right from the start you see that anchors awei...</td>\n",
              "      <td>1</td>\n",
              "      <td>right start see anchors aweigh great comedy ge...</td>\n",
              "    </tr>\n",
              "    <tr>\n",
              "      <th>17585</th>\n",
              "      <td>i love and admire the farrelly brothers how co...</td>\n",
              "      <td>1</td>\n",
              "      <td>love admire farrelly brothers come got see gre...</td>\n",
              "    </tr>\n",
              "    <tr>\n",
              "      <th>13930</th>\n",
              "      <td>considered by almost all the critics to be the...</td>\n",
              "      <td>1</td>\n",
              "      <td>considered almost critics best johnny weissmul...</td>\n",
              "    </tr>\n",
              "    <tr>\n",
              "      <th>16709</th>\n",
              "      <td>for real film people this film is a must since...</td>\n",
              "      <td>1</td>\n",
              "      <td>real film people film must since works perfect...</td>\n",
              "    </tr>\n",
              "    <tr>\n",
              "      <th>2919</th>\n",
              "      <td>it s like a bad s tv show got loose and tried ...</td>\n",
              "      <td>0</td>\n",
              "      <td>like bad television show got loose tried becom...</td>\n",
              "    </tr>\n",
              "  </tbody>\n",
              "</table>\n",
              "</div>"
            ],
            "text/plain": [
              "                                                   Texts  ...                                               Text\n",
              "18857  right from the start you see that anchors awei...  ...  right start see anchors aweigh great comedy ge...\n",
              "17585  i love and admire the farrelly brothers how co...  ...  love admire farrelly brothers come got see gre...\n",
              "13930  considered by almost all the critics to be the...  ...  considered almost critics best johnny weissmul...\n",
              "16709  for real film people this film is a must since...  ...  real film people film must since works perfect...\n",
              "2919   it s like a bad s tv show got loose and tried ...  ...  like bad television show got loose tried becom...\n",
              "\n",
              "[5 rows x 3 columns]"
            ]
          },
          "metadata": {
            "tags": []
          },
          "execution_count": 9
        }
      ]
    },
    {
      "cell_type": "code",
      "metadata": {
        "id": "osVAbcha6gxA",
        "colab_type": "code",
        "colab": {
          "base_uri": "https://localhost:8080/",
          "height": 204
        },
        "outputId": "0eae44a8-c910-4804-8b72-946faadb0e70"
      },
      "source": [
        "# Shuffling DataFrame\n",
        "from sklearn.utils import shuffle\n",
        "data = shuffle(data)\n",
        "data.head()"
      ],
      "execution_count": 10,
      "outputs": [
        {
          "output_type": "execute_result",
          "data": {
            "text/html": [
              "<div>\n",
              "<style scoped>\n",
              "    .dataframe tbody tr th:only-of-type {\n",
              "        vertical-align: middle;\n",
              "    }\n",
              "\n",
              "    .dataframe tbody tr th {\n",
              "        vertical-align: top;\n",
              "    }\n",
              "\n",
              "    .dataframe thead th {\n",
              "        text-align: right;\n",
              "    }\n",
              "</style>\n",
              "<table border=\"1\" class=\"dataframe\">\n",
              "  <thead>\n",
              "    <tr style=\"text-align: right;\">\n",
              "      <th></th>\n",
              "      <th>Texts</th>\n",
              "      <th>Labels</th>\n",
              "      <th>Text</th>\n",
              "    </tr>\n",
              "  </thead>\n",
              "  <tbody>\n",
              "    <tr>\n",
              "      <th>214</th>\n",
              "      <td>with this film bunuel manipulates the viewer w...</td>\n",
              "      <td>0</td>\n",
              "      <td>film bunuel manipulates viewer film might stat...</td>\n",
              "    </tr>\n",
              "    <tr>\n",
              "      <th>3624</th>\n",
              "      <td>this movie is pure guano mom always said if yo...</td>\n",
              "      <td>0</td>\n",
              "      <td>movie pure guano mom always said cannot say an...</td>\n",
              "    </tr>\n",
              "    <tr>\n",
              "      <th>12292</th>\n",
              "      <td>this is the kind of movie you regret you put i...</td>\n",
              "      <td>0</td>\n",
              "      <td>kind movie regret put vcr weird bad rip versio...</td>\n",
              "    </tr>\n",
              "    <tr>\n",
              "      <th>24249</th>\n",
              "      <td>i have found this movie available for streamin...</td>\n",
              "      <td>1</td>\n",
              "      <td>found movie available streaming netflix though...</td>\n",
              "    </tr>\n",
              "    <tr>\n",
              "      <th>9905</th>\n",
              "      <td>i usually start by relaying the premise of the...</td>\n",
              "      <td>0</td>\n",
              "      <td>usually start relaying premise film anyone mak...</td>\n",
              "    </tr>\n",
              "  </tbody>\n",
              "</table>\n",
              "</div>"
            ],
            "text/plain": [
              "                                                   Texts  ...                                               Text\n",
              "214    with this film bunuel manipulates the viewer w...  ...  film bunuel manipulates viewer film might stat...\n",
              "3624   this movie is pure guano mom always said if yo...  ...  movie pure guano mom always said cannot say an...\n",
              "12292  this is the kind of movie you regret you put i...  ...  kind movie regret put vcr weird bad rip versio...\n",
              "24249  i have found this movie available for streamin...  ...  found movie available streaming netflix though...\n",
              "9905   i usually start by relaying the premise of the...  ...  usually start relaying premise film anyone mak...\n",
              "\n",
              "[5 rows x 3 columns]"
            ]
          },
          "metadata": {
            "tags": []
          },
          "execution_count": 10
        }
      ]
    },
    {
      "cell_type": "code",
      "metadata": {
        "id": "eReJn-Af6g0r",
        "colab_type": "code",
        "colab": {}
      },
      "source": [
        "labels = list(data['Labels'].values)\n",
        "texts = list(data['Text'].values)"
      ],
      "execution_count": 11,
      "outputs": []
    },
    {
      "cell_type": "code",
      "metadata": {
        "id": "b2XCGcxm7aaF",
        "colab_type": "code",
        "colab": {
          "base_uri": "https://localhost:8080/",
          "height": 121
        },
        "outputId": "abdf5e96-4c6f-4198-ddaf-f9a02bdded7d"
      },
      "source": [
        "texts[0]"
      ],
      "execution_count": 12,
      "outputs": [
        {
          "output_type": "execute_result",
          "data": {
            "application/vnd.google.colaboratory.intrinsic+json": {
              "type": "string"
            },
            "text/plain": [
              "'film bunuel manipulates viewer film might stating clearly film work one objectivity obviously one reason many scenes shot pure chance obvious set ups poor goat accidently falls cliff actually see gun smoke right screen another concealing one important information hurdes people way specific reason hinted film goitre sickness caused lack iodine salt goitre cause cretinism bunuel took time make research heck checked cretinism medical dictionary would found goitre might ended telling truth people still doubtfully instead film judges constantly talking cretins dramatizing action setting scenes create spectacle unacceptable documentarist claims work mighty objectivity bunuel talks time film letting one word people filming talks even judges piece flawed roots ideology real shame considered great film'"
            ]
          },
          "metadata": {
            "tags": []
          },
          "execution_count": 12
        }
      ]
    },
    {
      "cell_type": "code",
      "metadata": {
        "id": "gdt7Mg_k7cNn",
        "colab_type": "code",
        "colab": {
          "base_uri": "https://localhost:8080/",
          "height": 34
        },
        "outputId": "53aa5590-d0c1-4902-84b6-b02e9be9dfc1"
      },
      "source": [
        "labels[0]"
      ],
      "execution_count": 13,
      "outputs": [
        {
          "output_type": "execute_result",
          "data": {
            "text/plain": [
              "0"
            ]
          },
          "metadata": {
            "tags": []
          },
          "execution_count": 13
        }
      ]
    },
    {
      "cell_type": "code",
      "metadata": {
        "id": "aODUIIoj7eRE",
        "colab_type": "code",
        "colab": {
          "base_uri": "https://localhost:8080/",
          "height": 34
        },
        "outputId": "a8662ad1-4272-410c-86b4-57123ae816b9"
      },
      "source": [
        "from tensorflow.keras.preprocessing.text import Tokenizer\n",
        "from tensorflow.keras.preprocessing.sequence import pad_sequences\n",
        "\n",
        "import numpy as np\n",
        "maxlen = 100\n",
        "training_samples = 200\n",
        "validation_samples = 10000\n",
        "max_words = 10000\n",
        "\n",
        "tokenizer = Tokenizer(num_words = max_words)\n",
        "tokenizer.fit_on_texts(texts)\n",
        "\n",
        "sequences = tokenizer.texts_to_sequences(texts)\n",
        "word_index = tokenizer.word_index\n",
        "\n",
        "print(\"Unique Words\", len(word_index))"
      ],
      "execution_count": 14,
      "outputs": [
        {
          "output_type": "stream",
          "text": [
            "Unique Words 74073\n"
          ],
          "name": "stdout"
        }
      ]
    },
    {
      "cell_type": "code",
      "metadata": {
        "id": "TG7xesEF7h3L",
        "colab_type": "code",
        "colab": {
          "base_uri": "https://localhost:8080/",
          "height": 51
        },
        "outputId": "d1f4ee00-3edf-49a1-ffa1-3ae8af1ced89"
      },
      "source": [
        "data = pad_sequences(sequences, maxlen = maxlen)\n",
        "labels = np.asarray(labels)\n",
        "print(\"Shape of data tensor \", data.shape)\n",
        "print(\"Shape of label tensor \", labels.shape)"
      ],
      "execution_count": 15,
      "outputs": [
        {
          "output_type": "stream",
          "text": [
            "Shape of data tensor  (25000, 100)\n",
            "Shape of label tensor  (25000,)\n"
          ],
          "name": "stdout"
        }
      ]
    },
    {
      "cell_type": "code",
      "metadata": {
        "id": "lZpc6vv37l6p",
        "colab_type": "code",
        "colab": {}
      },
      "source": [
        "indices = np.arange(data.shape[0])\n",
        "np.random.shuffle(indices)\n",
        "\n",
        "data = data[indices]\n",
        "labels = labels[indices]"
      ],
      "execution_count": 16,
      "outputs": []
    },
    {
      "cell_type": "code",
      "metadata": {
        "id": "G61WuCRn8zjb",
        "colab_type": "code",
        "colab": {}
      },
      "source": [
        "X_train = data[:training_samples]\n",
        "y_train = labels[:training_samples]\n",
        "\n",
        "X_val = data[training_samples:training_samples+validation_samples]\n",
        "y_val = labels[training_samples:training_samples+validation_samples]"
      ],
      "execution_count": 19,
      "outputs": []
    },
    {
      "cell_type": "code",
      "metadata": {
        "id": "xufBZSvS7oeD",
        "colab_type": "code",
        "colab": {}
      },
      "source": [
        "downloaded = drive.CreateFile({'id':'1DG-WejzQ1mP-RyGeEdGnfLXBdiR-i1V-'}) # replace the id with id of file you want to access\n",
        "downloaded.GetContentFile('glove.6B.100d.txt')"
      ],
      "execution_count": 18,
      "outputs": []
    },
    {
      "cell_type": "code",
      "metadata": {
        "id": "vC3MGhgD8tXI",
        "colab_type": "code",
        "colab": {
          "base_uri": "https://localhost:8080/",
          "height": 34
        },
        "outputId": "c8bce5de-d20d-46ad-d0a6-46f00b774c30"
      },
      "source": [
        "embeddings_index = {}\n",
        "f = open( 'glove.6B.100d.txt', encoding = 'utf-8')\n",
        "for line in f:\n",
        "    values = line.split()\n",
        "    word = values[0]\n",
        "    coefs = np.asarray(values[1:], dtype = 'float32')\n",
        "    embeddings_index[word] = coefs\n",
        "    \n",
        "f.close()\n",
        "    \n",
        "print(\"Found %s word vectors\" % len(embeddings_index))"
      ],
      "execution_count": 20,
      "outputs": [
        {
          "output_type": "stream",
          "text": [
            "Found 400000 word vectors\n"
          ],
          "name": "stdout"
        }
      ]
    },
    {
      "cell_type": "code",
      "metadata": {
        "id": "KCcpZNOX8tl8",
        "colab_type": "code",
        "colab": {
          "base_uri": "https://localhost:8080/",
          "height": 292
        },
        "outputId": "fdde22e8-f1c7-4490-f63b-2dc4bad6c608"
      },
      "source": [
        "embedding_dim = 100\n",
        "embedding_matrix = np.zeros((max_words, embedding_dim))\n",
        "for word, i in word_index.items():\n",
        "    if i < max_words:\n",
        "        embedding_vector = embeddings_index.get(word)\n",
        "        if embedding_vector is not None:\n",
        "            embedding_matrix[i] = embedding_vector\n",
        "\n",
        "from tensorflow.keras.models import Sequential\n",
        "from tensorflow.keras.layers import Embedding, Dense, Flatten\n",
        "model = Sequential()\n",
        "model.add(Embedding(max_words, embedding_dim, input_length = maxlen))\n",
        "model.add(Flatten())\n",
        "model.add(Dense(32, activation = 'relu'))\n",
        "model.add(Dense(1, activation = 'sigmoid'))\n",
        "model.summary()"
      ],
      "execution_count": 21,
      "outputs": [
        {
          "output_type": "stream",
          "text": [
            "Model: \"sequential\"\n",
            "_________________________________________________________________\n",
            "Layer (type)                 Output Shape              Param #   \n",
            "=================================================================\n",
            "embedding (Embedding)        (None, 100, 100)          1000000   \n",
            "_________________________________________________________________\n",
            "flatten (Flatten)            (None, 10000)             0         \n",
            "_________________________________________________________________\n",
            "dense (Dense)                (None, 32)                320032    \n",
            "_________________________________________________________________\n",
            "dense_1 (Dense)              (None, 1)                 33        \n",
            "=================================================================\n",
            "Total params: 1,320,065\n",
            "Trainable params: 1,320,065\n",
            "Non-trainable params: 0\n",
            "_________________________________________________________________\n"
          ],
          "name": "stdout"
        }
      ]
    },
    {
      "cell_type": "code",
      "metadata": {
        "id": "pgDb3Yl39Ia1",
        "colab_type": "code",
        "colab": {
          "base_uri": "https://localhost:8080/",
          "height": 360
        },
        "outputId": "d843499a-ff3c-49e8-8237-f96a49dd37ba"
      },
      "source": [
        "model.layers[0].set_weights([embedding_matrix])\n",
        "model.layers[0].trainable = False\n",
        "\n",
        "model.compile(optimizer = 'rmsprop', loss = 'binary_crossentropy', metrics = ['acc'])\n",
        "history = model.fit(X_train, y_train, epochs = 10, batch_size = 32, validation_data = (X_val, y_val))"
      ],
      "execution_count": 22,
      "outputs": [
        {
          "output_type": "stream",
          "text": [
            "Epoch 1/10\n",
            "7/7 [==============================] - 1s 118ms/step - loss: 0.8966 - acc: 0.5200 - val_loss: 0.6913 - val_acc: 0.5059\n",
            "Epoch 2/10\n",
            "7/7 [==============================] - 1s 77ms/step - loss: 0.5851 - acc: 0.7250 - val_loss: 0.7608 - val_acc: 0.5025\n",
            "Epoch 3/10\n",
            "7/7 [==============================] - 1s 76ms/step - loss: 0.4224 - acc: 0.7950 - val_loss: 1.2666 - val_acc: 0.5011\n",
            "Epoch 4/10\n",
            "7/7 [==============================] - 1s 76ms/step - loss: 0.2662 - acc: 0.9100 - val_loss: 0.9456 - val_acc: 0.5086\n",
            "Epoch 5/10\n",
            "7/7 [==============================] - 1s 72ms/step - loss: 0.1286 - acc: 0.9750 - val_loss: 0.6748 - val_acc: 0.6121\n",
            "Epoch 6/10\n",
            "7/7 [==============================] - 1s 74ms/step - loss: 0.0566 - acc: 1.0000 - val_loss: 0.7686 - val_acc: 0.5863\n",
            "Epoch 7/10\n",
            "7/7 [==============================] - 1s 72ms/step - loss: 0.0325 - acc: 1.0000 - val_loss: 0.6917 - val_acc: 0.6216\n",
            "Epoch 8/10\n",
            "7/7 [==============================] - 1s 74ms/step - loss: 0.0169 - acc: 1.0000 - val_loss: 0.7038 - val_acc: 0.6245\n",
            "Epoch 9/10\n",
            "7/7 [==============================] - 1s 72ms/step - loss: 0.0095 - acc: 1.0000 - val_loss: 0.7497 - val_acc: 0.6146\n",
            "Epoch 10/10\n",
            "7/7 [==============================] - 1s 76ms/step - loss: 0.0059 - acc: 1.0000 - val_loss: 0.9402 - val_acc: 0.5796\n"
          ],
          "name": "stdout"
        }
      ]
    },
    {
      "cell_type": "code",
      "metadata": {
        "id": "o8FNp56C9L9T",
        "colab_type": "code",
        "colab": {}
      },
      "source": [
        "#model.save_weights('pre_trained_glove_model.h5')"
      ],
      "execution_count": 24,
      "outputs": []
    },
    {
      "cell_type": "code",
      "metadata": {
        "id": "chVsW2709V7j",
        "colab_type": "code",
        "colab": {
          "base_uri": "https://localhost:8080/",
          "height": 281
        },
        "outputId": "ba1c04ae-776a-4b06-dc7c-fd74960b9563"
      },
      "source": [
        "import matplotlib.pyplot as plt\n",
        "acc = history.history['acc']\n",
        "val_acc = history.history['val_acc']\n",
        "loss = history.history['loss']\n",
        "val_loss = history.history['val_loss']\n",
        "epochs = range(1, len(acc)+1)\n",
        "plt.plot(epochs, acc, 'bo', label = 'Training Acc')\n",
        "plt.plot(epochs, val_acc, 'b', label = 'Validation Acc')\n",
        "plt.title(\"Training and Validation Accuracy\")\n",
        "plt.show()"
      ],
      "execution_count": 23,
      "outputs": [
        {
          "output_type": "display_data",
          "data": {
            "image/png": "[encoded data removed]",
            "text/plain": [
              "<Figure size 432x288 with 1 Axes>"
            ]
          },
          "metadata": {
            "tags": [],
            "needs_background": "light"
          }
        }
      ]
    },
    {
      "cell_type": "code",
      "metadata": {
        "id": "oCfaEfRj9Xgp",
        "colab_type": "code",
        "colab": {
          "base_uri": "https://localhost:8080/",
          "height": 281
        },
        "outputId": "0e89734b-2ffd-4c8f-fd84-ab3ca8e3a453"
      },
      "source": [
        "plt.plot(epochs, loss, 'bo', label = 'Training Loss')\n",
        "plt.plot(epochs, val_loss, 'b', label = 'Validation Loss')\n",
        "plt.title(\"Training and Validation Loss\")\n",
        "plt.show()"
      ],
      "execution_count": 25,
      "outputs": [
        {
          "output_type": "display_data",
          "data": {
            "image/png": "[encoded data removed]",
            "text/plain": [
              "<Figure size 432x288 with 1 Axes>"
            ]
          },
          "metadata": {
            "tags": [],
            "needs_background": "light"
          }
        }
      ]
    },
    {
      "cell_type": "code",
      "metadata": {
        "id": "fIbExIA89dUB",
        "colab_type": "code",
        "colab": {
          "base_uri": "https://localhost:8080/",
          "height": 292
        },
        "outputId": "ab3fb2da-6a9d-4100-d4ec-63ed48718696"
      },
      "source": [
        "#Training the same model without pretraining word embedding\n",
        "from keras.models import Sequential\n",
        "from keras.layers import Embedding, Flatten, Dense\n",
        "\n",
        "model=Sequential()\n",
        "model.add(Embedding(max_words, embedding_dim, input_length = maxlen))\n",
        "model.add(Flatten())\n",
        "model.add(Dense(32, activation = 'relu'))\n",
        "model.add(Dense(1, activation = 'sigmoid'))\n",
        "model.summary()"
      ],
      "execution_count": 26,
      "outputs": [
        {
          "output_type": "stream",
          "text": [
            "Model: \"sequential_1\"\n",
            "_________________________________________________________________\n",
            "Layer (type)                 Output Shape              Param #   \n",
            "=================================================================\n",
            "embedding_1 (Embedding)      (None, 100, 100)          1000000   \n",
            "_________________________________________________________________\n",
            "flatten_1 (Flatten)          (None, 10000)             0         \n",
            "_________________________________________________________________\n",
            "dense_2 (Dense)              (None, 32)                320032    \n",
            "_________________________________________________________________\n",
            "dense_3 (Dense)              (None, 1)                 33        \n",
            "=================================================================\n",
            "Total params: 1,320,065\n",
            "Trainable params: 1,320,065\n",
            "Non-trainable params: 0\n",
            "_________________________________________________________________\n"
          ],
          "name": "stdout"
        }
      ]
    },
    {
      "cell_type": "code",
      "metadata": {
        "id": "HydoTSFF9hMh",
        "colab_type": "code",
        "colab": {
          "base_uri": "https://localhost:8080/",
          "height": 360
        },
        "outputId": "3741060e-430d-4ea3-ad45-6eb9ee4ae453"
      },
      "source": [
        "model.compile(optimizer = 'rmsprop',loss = 'binary_crossentropy', metrics = ['acc'])\n",
        "history=model.fit(X_train, y_train, epochs=10,batch_size = 32, validation_data = (X_val, y_val))"
      ],
      "execution_count": 27,
      "outputs": [
        {
          "output_type": "stream",
          "text": [
            "Epoch 1/10\n",
            "7/7 [==============================] - 1s 102ms/step - loss: 0.7034 - acc: 0.4550 - val_loss: 0.6937 - val_acc: 0.5000\n",
            "Epoch 2/10\n",
            "7/7 [==============================] - 1s 85ms/step - loss: 0.5860 - acc: 0.8900 - val_loss: 0.6932 - val_acc: 0.5096\n",
            "Epoch 3/10\n",
            "7/7 [==============================] - 1s 92ms/step - loss: 0.4458 - acc: 0.9900 - val_loss: 0.7255 - val_acc: 0.5077\n",
            "Epoch 4/10\n",
            "7/7 [==============================] - 1s 102ms/step - loss: 0.2378 - acc: 0.9900 - val_loss: 0.7179 - val_acc: 0.5209\n",
            "Epoch 5/10\n",
            "7/7 [==============================] - 1s 102ms/step - loss: 0.1091 - acc: 1.0000 - val_loss: 0.6915 - val_acc: 0.5396\n",
            "Epoch 6/10\n",
            "7/7 [==============================] - 1s 97ms/step - loss: 0.0504 - acc: 1.0000 - val_loss: 0.7357 - val_acc: 0.5210\n",
            "Epoch 7/10\n",
            "7/7 [==============================] - 1s 93ms/step - loss: 0.0276 - acc: 1.0000 - val_loss: 0.6957 - val_acc: 0.5457\n",
            "Epoch 8/10\n",
            "7/7 [==============================] - 1s 102ms/step - loss: 0.0155 - acc: 1.0000 - val_loss: 0.6930 - val_acc: 0.5478\n",
            "Epoch 9/10\n",
            "7/7 [==============================] - 1s 100ms/step - loss: 0.0089 - acc: 1.0000 - val_loss: 0.6995 - val_acc: 0.5466\n",
            "Epoch 10/10\n",
            "7/7 [==============================] - 1s 92ms/step - loss: 0.0054 - acc: 1.0000 - val_loss: 0.7002 - val_acc: 0.5516\n"
          ],
          "name": "stdout"
        }
      ]
    },
    {
      "cell_type": "code",
      "metadata": {
        "id": "IUb5VTZF9nd6",
        "colab_type": "code",
        "colab": {}
      },
      "source": [
        ""
      ],
      "execution_count": null,
      "outputs": []
    }
  ]
}