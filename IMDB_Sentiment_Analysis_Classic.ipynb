{
 "cells": [
  {
   "cell_type": "markdown",
   "metadata": {},
   "source": [
    "# IMDM Sentiment Analysis"
   ]
  },
  {
   "cell_type": "code",
   "execution_count": 1,
   "metadata": {},
   "outputs": [],
   "source": [
    "import os\n",
    "\n",
    "imdb_dir = \"C:/Users/16504/Desktop/NLP/0_Google_Drive/NLP/Data/aclImdb\"\n",
    "\n",
    "train_dir = os.path.join(imdb_dir, 'train')\n",
    "labels = []\n",
    "texts = []\n",
    "\n",
    "for label_type in ['neg', 'pos']:\n",
    "    dir_name = os.path.join(train_dir, label_type)\n",
    "    for fname in os.listdir(dir_name):\n",
    "        if fname[-4:] == '.txt':\n",
    "            f = open(os.path.join(dir_name, fname), encoding = 'utf-8')\n",
    "            texts.append(f.read())\n",
    "            f.close()\n",
    "            if label_type == 'neg':\n",
    "                labels.append(0)\n",
    "            else:\n",
    "                labels.append(1)"
   ]
  },
  {
   "cell_type": "code",
   "execution_count": 2,
   "metadata": {},
   "outputs": [
    {
     "data": {
      "text/plain": [
       "\"Story of a man who has unnatural feelings for a pig. Starts out with a opening scene that is a terrific example of absurd comedy. A formal orchestra audience is turned into an insane, violent mob by the crazy chantings of it's singers. Unfortunately it stays absurd the WHOLE time with no general narrative eventually making it just too off putting. Even those from the era should be turned off. The cryptic dialogue would make Shakespeare seem easy to a third grader. On a technical level it's better than you might think with some good cinematography by future great Vilmos Zsigmond. Future stars Sally Kirkland and Frederic Forrest can be seen briefly.\""
      ]
     },
     "execution_count": 2,
     "metadata": {},
     "output_type": "execute_result"
    }
   ],
   "source": [
    "texts[0]"
   ]
  },
  {
   "cell_type": "code",
   "execution_count": 3,
   "metadata": {},
   "outputs": [
    {
     "data": {
      "text/plain": [
       "0"
      ]
     },
     "execution_count": 3,
     "metadata": {},
     "output_type": "execute_result"
    }
   ],
   "source": [
    "labels[0]"
   ]
  },
  {
   "cell_type": "code",
   "execution_count": 4,
   "metadata": {},
   "outputs": [
    {
     "data": {
      "text/html": [
       "<div>\n",
       "<style scoped>\n",
       "    .dataframe tbody tr th:only-of-type {\n",
       "        vertical-align: middle;\n",
       "    }\n",
       "\n",
       "    .dataframe tbody tr th {\n",
       "        vertical-align: top;\n",
       "    }\n",
       "\n",
       "    .dataframe thead th {\n",
       "        text-align: right;\n",
       "    }\n",
       "</style>\n",
       "<table border=\"1\" class=\"dataframe\">\n",
       "  <thead>\n",
       "    <tr style=\"text-align: right;\">\n",
       "      <th></th>\n",
       "      <th>Texts</th>\n",
       "      <th>Labels</th>\n",
       "    </tr>\n",
       "  </thead>\n",
       "  <tbody>\n",
       "    <tr>\n",
       "      <th>0</th>\n",
       "      <td>Story of a man who has unnatural feelings for ...</td>\n",
       "      <td>0</td>\n",
       "    </tr>\n",
       "    <tr>\n",
       "      <th>1</th>\n",
       "      <td>Airport '77 starts as a brand new luxury 747 p...</td>\n",
       "      <td>0</td>\n",
       "    </tr>\n",
       "    <tr>\n",
       "      <th>2</th>\n",
       "      <td>This film lacked something I couldn't put my f...</td>\n",
       "      <td>0</td>\n",
       "    </tr>\n",
       "    <tr>\n",
       "      <th>3</th>\n",
       "      <td>Sorry everyone,,, I know this is supposed to b...</td>\n",
       "      <td>0</td>\n",
       "    </tr>\n",
       "    <tr>\n",
       "      <th>4</th>\n",
       "      <td>When I was little my parents took me along to ...</td>\n",
       "      <td>0</td>\n",
       "    </tr>\n",
       "  </tbody>\n",
       "</table>\n",
       "</div>"
      ],
      "text/plain": [
       "                                               Texts  Labels\n",
       "0  Story of a man who has unnatural feelings for ...       0\n",
       "1  Airport '77 starts as a brand new luxury 747 p...       0\n",
       "2  This film lacked something I couldn't put my f...       0\n",
       "3  Sorry everyone,,, I know this is supposed to b...       0\n",
       "4  When I was little my parents took me along to ...       0"
      ]
     },
     "execution_count": 4,
     "metadata": {},
     "output_type": "execute_result"
    }
   ],
   "source": [
    "import pandas as pd\n",
    "import numpy as np\n",
    "\n",
    "data = pd.DataFrame({'Texts': texts, 'Labels': labels})\n",
    "data.head()"
   ]
  },
  {
   "cell_type": "code",
   "execution_count": 5,
   "metadata": {},
   "outputs": [
    {
     "data": {
      "text/html": [
       "<div>\n",
       "<style scoped>\n",
       "    .dataframe tbody tr th:only-of-type {\n",
       "        vertical-align: middle;\n",
       "    }\n",
       "\n",
       "    .dataframe tbody tr th {\n",
       "        vertical-align: top;\n",
       "    }\n",
       "\n",
       "    .dataframe thead th {\n",
       "        text-align: right;\n",
       "    }\n",
       "</style>\n",
       "<table border=\"1\" class=\"dataframe\">\n",
       "  <thead>\n",
       "    <tr style=\"text-align: right;\">\n",
       "      <th></th>\n",
       "      <th>Texts</th>\n",
       "      <th>Labels</th>\n",
       "    </tr>\n",
       "  </thead>\n",
       "  <tbody>\n",
       "    <tr>\n",
       "      <th>18857</th>\n",
       "      <td>Right from the start you see that \"Anchors Awe...</td>\n",
       "      <td>1</td>\n",
       "    </tr>\n",
       "    <tr>\n",
       "      <th>17585</th>\n",
       "      <td>I love and admire the Farrelly brothers! How c...</td>\n",
       "      <td>1</td>\n",
       "    </tr>\n",
       "    <tr>\n",
       "      <th>13930</th>\n",
       "      <td>Considered by almost all the critics to be the...</td>\n",
       "      <td>1</td>\n",
       "    </tr>\n",
       "    <tr>\n",
       "      <th>16709</th>\n",
       "      <td>For real film people, this film is a must, sin...</td>\n",
       "      <td>1</td>\n",
       "    </tr>\n",
       "    <tr>\n",
       "      <th>2919</th>\n",
       "      <td>It's like a bad 80s TV show got loose and trie...</td>\n",
       "      <td>0</td>\n",
       "    </tr>\n",
       "  </tbody>\n",
       "</table>\n",
       "</div>"
      ],
      "text/plain": [
       "                                                   Texts  Labels\n",
       "18857  Right from the start you see that \"Anchors Awe...       1\n",
       "17585  I love and admire the Farrelly brothers! How c...       1\n",
       "13930  Considered by almost all the critics to be the...       1\n",
       "16709  For real film people, this film is a must, sin...       1\n",
       "2919   It's like a bad 80s TV show got loose and trie...       0"
      ]
     },
     "execution_count": 5,
     "metadata": {},
     "output_type": "execute_result"
    }
   ],
   "source": [
    "# Shuffling DataFrame\n",
    "from sklearn.utils import shuffle\n",
    "data = shuffle(data)\n",
    "data.head()"
   ]
  },
  {
   "cell_type": "code",
   "execution_count": 6,
   "metadata": {},
   "outputs": [
    {
     "data": {
      "text/html": [
       "<div>\n",
       "<style scoped>\n",
       "    .dataframe tbody tr th:only-of-type {\n",
       "        vertical-align: middle;\n",
       "    }\n",
       "\n",
       "    .dataframe tbody tr th {\n",
       "        vertical-align: top;\n",
       "    }\n",
       "\n",
       "    .dataframe thead th {\n",
       "        text-align: right;\n",
       "    }\n",
       "</style>\n",
       "<table border=\"1\" class=\"dataframe\">\n",
       "  <thead>\n",
       "    <tr style=\"text-align: right;\">\n",
       "      <th></th>\n",
       "      <th>Texts</th>\n",
       "      <th>Labels</th>\n",
       "    </tr>\n",
       "  </thead>\n",
       "  <tbody>\n",
       "    <tr>\n",
       "      <th>18857</th>\n",
       "      <td>Right from the start you see that \"Anchors Awe...</td>\n",
       "      <td>1</td>\n",
       "    </tr>\n",
       "    <tr>\n",
       "      <th>17585</th>\n",
       "      <td>I love and admire the Farrelly brothers! How c...</td>\n",
       "      <td>1</td>\n",
       "    </tr>\n",
       "    <tr>\n",
       "      <th>13930</th>\n",
       "      <td>Considered by almost all the critics to be the...</td>\n",
       "      <td>1</td>\n",
       "    </tr>\n",
       "    <tr>\n",
       "      <th>16709</th>\n",
       "      <td>For real film people, this film is a must, sin...</td>\n",
       "      <td>1</td>\n",
       "    </tr>\n",
       "    <tr>\n",
       "      <th>2919</th>\n",
       "      <td>It's like a bad 80s TV show got loose and trie...</td>\n",
       "      <td>0</td>\n",
       "    </tr>\n",
       "  </tbody>\n",
       "</table>\n",
       "</div>"
      ],
      "text/plain": [
       "                                                   Texts  Labels\n",
       "18857  Right from the start you see that \"Anchors Awe...       1\n",
       "17585  I love and admire the Farrelly brothers! How c...       1\n",
       "13930  Considered by almost all the critics to be the...       1\n",
       "16709  For real film people, this film is a must, sin...       1\n",
       "2919   It's like a bad 80s TV show got loose and trie...       0"
      ]
     },
     "execution_count": 6,
     "metadata": {},
     "output_type": "execute_result"
    }
   ],
   "source": [
    "# Removing html tags\n",
    "from bs4 import BeautifulSoup\n",
    "def remove_html(text):\n",
    "    soup = BeautifulSoup(text, 'html.parser')\n",
    "    text = soup.get_text()\n",
    "    return text\n",
    "\n",
    "data['Texts'] = data['Texts'].apply(remove_html)\n",
    "data.head()"
   ]
  },
  {
   "cell_type": "code",
   "execution_count": 7,
   "metadata": {},
   "outputs": [
    {
     "data": {
      "text/html": [
       "<div>\n",
       "<style scoped>\n",
       "    .dataframe tbody tr th:only-of-type {\n",
       "        vertical-align: middle;\n",
       "    }\n",
       "\n",
       "    .dataframe tbody tr th {\n",
       "        vertical-align: top;\n",
       "    }\n",
       "\n",
       "    .dataframe thead th {\n",
       "        text-align: right;\n",
       "    }\n",
       "</style>\n",
       "<table border=\"1\" class=\"dataframe\">\n",
       "  <thead>\n",
       "    <tr style=\"text-align: right;\">\n",
       "      <th></th>\n",
       "      <th>Texts</th>\n",
       "      <th>Labels</th>\n",
       "    </tr>\n",
       "  </thead>\n",
       "  <tbody>\n",
       "    <tr>\n",
       "      <th>18857</th>\n",
       "      <td>Right from the start you see that \"Anchors Awe...</td>\n",
       "      <td>1</td>\n",
       "    </tr>\n",
       "    <tr>\n",
       "      <th>17585</th>\n",
       "      <td>I love and admire the Farrelly brothers! How c...</td>\n",
       "      <td>1</td>\n",
       "    </tr>\n",
       "    <tr>\n",
       "      <th>13930</th>\n",
       "      <td>Considered by almost all the critics to be the...</td>\n",
       "      <td>1</td>\n",
       "    </tr>\n",
       "    <tr>\n",
       "      <th>16709</th>\n",
       "      <td>For real film people, this film is a must, sin...</td>\n",
       "      <td>1</td>\n",
       "    </tr>\n",
       "    <tr>\n",
       "      <th>2919</th>\n",
       "      <td>It's like a bad 80s TV show got loose and trie...</td>\n",
       "      <td>0</td>\n",
       "    </tr>\n",
       "  </tbody>\n",
       "</table>\n",
       "</div>"
      ],
      "text/plain": [
       "                                                   Texts  Labels\n",
       "18857  Right from the start you see that \"Anchors Awe...       1\n",
       "17585  I love and admire the Farrelly brothers! How c...       1\n",
       "13930  Considered by almost all the critics to be the...       1\n",
       "16709  For real film people, this film is a must, sin...       1\n",
       "2919   It's like a bad 80s TV show got loose and trie...       0"
      ]
     },
     "execution_count": 7,
     "metadata": {},
     "output_type": "execute_result"
    }
   ],
   "source": [
    "# Remove all URLs\n",
    "def remove_urls(text):\n",
    "    text = re.sub(r'https?:\\/\\/\\S*| www\\.\\S*', '', text, flags=re.MULTILINE)\n",
    "    return text\n",
    "\n",
    "import re\n",
    "data['Texts'] = data['Texts'].apply(remove_urls)\n",
    "data.head()"
   ]
  },
  {
   "cell_type": "code",
   "execution_count": 8,
   "metadata": {},
   "outputs": [
    {
     "data": {
      "text/html": [
       "<div>\n",
       "<style scoped>\n",
       "    .dataframe tbody tr th:only-of-type {\n",
       "        vertical-align: middle;\n",
       "    }\n",
       "\n",
       "    .dataframe tbody tr th {\n",
       "        vertical-align: top;\n",
       "    }\n",
       "\n",
       "    .dataframe thead th {\n",
       "        text-align: right;\n",
       "    }\n",
       "</style>\n",
       "<table border=\"1\" class=\"dataframe\">\n",
       "  <thead>\n",
       "    <tr style=\"text-align: right;\">\n",
       "      <th></th>\n",
       "      <th>Texts</th>\n",
       "      <th>Labels</th>\n",
       "    </tr>\n",
       "  </thead>\n",
       "  <tbody>\n",
       "    <tr>\n",
       "      <th>18857</th>\n",
       "      <td>Right from the start you see that \"Anchors Awe...</td>\n",
       "      <td>1</td>\n",
       "    </tr>\n",
       "    <tr>\n",
       "      <th>17585</th>\n",
       "      <td>I love and admire the Farrelly brothers! How c...</td>\n",
       "      <td>1</td>\n",
       "    </tr>\n",
       "    <tr>\n",
       "      <th>13930</th>\n",
       "      <td>Considered by almost all the critics to be the...</td>\n",
       "      <td>1</td>\n",
       "    </tr>\n",
       "    <tr>\n",
       "      <th>16709</th>\n",
       "      <td>For real film people, this film is a must, sin...</td>\n",
       "      <td>1</td>\n",
       "    </tr>\n",
       "    <tr>\n",
       "      <th>2919</th>\n",
       "      <td>It's like a bad 80s TV show got loose and trie...</td>\n",
       "      <td>0</td>\n",
       "    </tr>\n",
       "  </tbody>\n",
       "</table>\n",
       "</div>"
      ],
      "text/plain": [
       "                                                   Texts  Labels\n",
       "18857  Right from the start you see that \"Anchors Awe...       1\n",
       "17585  I love and admire the Farrelly brothers! How c...       1\n",
       "13930  Considered by almost all the critics to be the...       1\n",
       "16709  For real film people, this film is a must, sin...       1\n",
       "2919   It's like a bad 80s TV show got loose and trie...       0"
      ]
     },
     "execution_count": 8,
     "metadata": {},
     "output_type": "execute_result"
    }
   ],
   "source": [
    "# Remove all # and @ words\n",
    "def remove_sym_words(text):\n",
    "    text = re.sub(r'@\\w*\\S| #\\w*\\S', ' ', text)\n",
    "    return text\n",
    "\n",
    "data['Texts'] = data['Texts'].apply(remove_sym_words)\n",
    "data.head()"
   ]
  },
  {
   "cell_type": "code",
   "execution_count": 9,
   "metadata": {},
   "outputs": [
    {
     "data": {
      "text/html": [
       "<div>\n",
       "<style scoped>\n",
       "    .dataframe tbody tr th:only-of-type {\n",
       "        vertical-align: middle;\n",
       "    }\n",
       "\n",
       "    .dataframe tbody tr th {\n",
       "        vertical-align: top;\n",
       "    }\n",
       "\n",
       "    .dataframe thead th {\n",
       "        text-align: right;\n",
       "    }\n",
       "</style>\n",
       "<table border=\"1\" class=\"dataframe\">\n",
       "  <thead>\n",
       "    <tr style=\"text-align: right;\">\n",
       "      <th></th>\n",
       "      <th>Texts</th>\n",
       "      <th>Labels</th>\n",
       "    </tr>\n",
       "  </thead>\n",
       "  <tbody>\n",
       "    <tr>\n",
       "      <th>18857</th>\n",
       "      <td>Right from the start you see that \"Anchors Awe...</td>\n",
       "      <td>1</td>\n",
       "    </tr>\n",
       "    <tr>\n",
       "      <th>17585</th>\n",
       "      <td>I love and admire the Farrelly brothers! How c...</td>\n",
       "      <td>1</td>\n",
       "    </tr>\n",
       "    <tr>\n",
       "      <th>13930</th>\n",
       "      <td>Considered by almost all the critics to be the...</td>\n",
       "      <td>1</td>\n",
       "    </tr>\n",
       "    <tr>\n",
       "      <th>16709</th>\n",
       "      <td>For real film people, this film is a must, sin...</td>\n",
       "      <td>1</td>\n",
       "    </tr>\n",
       "    <tr>\n",
       "      <th>2919</th>\n",
       "      <td>It's like a bad 80s TV show got loose and trie...</td>\n",
       "      <td>0</td>\n",
       "    </tr>\n",
       "  </tbody>\n",
       "</table>\n",
       "</div>"
      ],
      "text/plain": [
       "                                                   Texts  Labels\n",
       "18857  Right from the start you see that \"Anchors Awe...       1\n",
       "17585  I love and admire the Farrelly brothers! How c...       1\n",
       "13930  Considered by almost all the critics to be the...       1\n",
       "16709  For real film people, this film is a must, sin...       1\n",
       "2919   It's like a bad 80s TV show got loose and trie...       0"
      ]
     },
     "execution_count": 9,
     "metadata": {},
     "output_type": "execute_result"
    }
   ],
   "source": [
    "# Remove Accented\n",
    "import unicodedata\n",
    "\n",
    "def remove_accented(text):\n",
    "    text = unicodedata.normalize(\"NFKD\", text ).encode('ascii', 'ignore').decode('utf-8', 'ignore')\n",
    "    return text\n",
    "\n",
    "data['Texts'] = data['Texts'].apply(remove_accented)\n",
    "data.head()                "
   ]
  },
  {
   "cell_type": "code",
   "execution_count": 10,
   "metadata": {},
   "outputs": [
    {
     "data": {
      "text/html": [
       "<div>\n",
       "<style scoped>\n",
       "    .dataframe tbody tr th:only-of-type {\n",
       "        vertical-align: middle;\n",
       "    }\n",
       "\n",
       "    .dataframe tbody tr th {\n",
       "        vertical-align: top;\n",
       "    }\n",
       "\n",
       "    .dataframe thead th {\n",
       "        text-align: right;\n",
       "    }\n",
       "</style>\n",
       "<table border=\"1\" class=\"dataframe\">\n",
       "  <thead>\n",
       "    <tr style=\"text-align: right;\">\n",
       "      <th></th>\n",
       "      <th>Texts</th>\n",
       "      <th>Labels</th>\n",
       "    </tr>\n",
       "  </thead>\n",
       "  <tbody>\n",
       "    <tr>\n",
       "      <th>18857</th>\n",
       "      <td>Right from the start you see that \"Anchors Awe...</td>\n",
       "      <td>1</td>\n",
       "    </tr>\n",
       "    <tr>\n",
       "      <th>17585</th>\n",
       "      <td>I love and admire the Farrelly brothers! How c...</td>\n",
       "      <td>1</td>\n",
       "    </tr>\n",
       "    <tr>\n",
       "      <th>13930</th>\n",
       "      <td>Considered by almost all the critics to be the...</td>\n",
       "      <td>1</td>\n",
       "    </tr>\n",
       "    <tr>\n",
       "      <th>16709</th>\n",
       "      <td>For real film people, this film is a must, sin...</td>\n",
       "      <td>1</td>\n",
       "    </tr>\n",
       "    <tr>\n",
       "      <th>2919</th>\n",
       "      <td>It's like a bad 80s TV show got loose and trie...</td>\n",
       "      <td>0</td>\n",
       "    </tr>\n",
       "  </tbody>\n",
       "</table>\n",
       "</div>"
      ],
      "text/plain": [
       "                                                   Texts  Labels\n",
       "18857  Right from the start you see that \"Anchors Awe...       1\n",
       "17585  I love and admire the Farrelly brothers! How c...       1\n",
       "13930  Considered by almost all the critics to be the...       1\n",
       "16709  For real film people, this film is a must, sin...       1\n",
       "2919   It's like a bad 80s TV show got loose and trie...       0"
      ]
     },
     "execution_count": 10,
     "metadata": {},
     "output_type": "execute_result"
    }
   ],
   "source": [
    "# Replacing Punctuation\n",
    "data['Texts'] = data['Texts'].str.replace(\"`\", \"'\")\n",
    "data.head()                "
   ]
  },
  {
   "cell_type": "code",
   "execution_count": 11,
   "metadata": {},
   "outputs": [
    {
     "data": {
      "text/html": [
       "<div>\n",
       "<style scoped>\n",
       "    .dataframe tbody tr th:only-of-type {\n",
       "        vertical-align: middle;\n",
       "    }\n",
       "\n",
       "    .dataframe tbody tr th {\n",
       "        vertical-align: top;\n",
       "    }\n",
       "\n",
       "    .dataframe thead th {\n",
       "        text-align: right;\n",
       "    }\n",
       "</style>\n",
       "<table border=\"1\" class=\"dataframe\">\n",
       "  <thead>\n",
       "    <tr style=\"text-align: right;\">\n",
       "      <th></th>\n",
       "      <th>Texts</th>\n",
       "      <th>Labels</th>\n",
       "    </tr>\n",
       "  </thead>\n",
       "  <tbody>\n",
       "    <tr>\n",
       "      <th>18857</th>\n",
       "      <td>Right from the start you see that \"Anchors Awe...</td>\n",
       "      <td>1</td>\n",
       "    </tr>\n",
       "    <tr>\n",
       "      <th>17585</th>\n",
       "      <td>I love and admire the Farrelly brothers! How c...</td>\n",
       "      <td>1</td>\n",
       "    </tr>\n",
       "    <tr>\n",
       "      <th>13930</th>\n",
       "      <td>Considered by almost all the critics to be the...</td>\n",
       "      <td>1</td>\n",
       "    </tr>\n",
       "    <tr>\n",
       "      <th>16709</th>\n",
       "      <td>For real film people, this film is a must, sin...</td>\n",
       "      <td>1</td>\n",
       "    </tr>\n",
       "    <tr>\n",
       "      <th>2919</th>\n",
       "      <td>It's like a bad s TV show got loose and tried ...</td>\n",
       "      <td>0</td>\n",
       "    </tr>\n",
       "  </tbody>\n",
       "</table>\n",
       "</div>"
      ],
      "text/plain": [
       "                                                   Texts  Labels\n",
       "18857  Right from the start you see that \"Anchors Awe...       1\n",
       "17585  I love and admire the Farrelly brothers! How c...       1\n",
       "13930  Considered by almost all the critics to be the...       1\n",
       "16709  For real film people, this film is a must, sin...       1\n",
       "2919   It's like a bad s TV show got loose and tried ...       0"
      ]
     },
     "execution_count": 11,
     "metadata": {},
     "output_type": "execute_result"
    }
   ],
   "source": [
    "# Removing Numbers\n",
    "def remove_num(text):\n",
    "    text = re.sub(r'\\d*', '', text)\n",
    "    return text                \n",
    "                \n",
    "data['Texts'] = data['Texts'].apply(remove_num)\n",
    "data.head() "
   ]
  },
  {
   "cell_type": "code",
   "execution_count": 12,
   "metadata": {},
   "outputs": [
    {
     "data": {
      "text/html": [
       "<div>\n",
       "<style scoped>\n",
       "    .dataframe tbody tr th:only-of-type {\n",
       "        vertical-align: middle;\n",
       "    }\n",
       "\n",
       "    .dataframe tbody tr th {\n",
       "        vertical-align: top;\n",
       "    }\n",
       "\n",
       "    .dataframe thead th {\n",
       "        text-align: right;\n",
       "    }\n",
       "</style>\n",
       "<table border=\"1\" class=\"dataframe\">\n",
       "  <thead>\n",
       "    <tr style=\"text-align: right;\">\n",
       "      <th></th>\n",
       "      <th>Texts</th>\n",
       "      <th>Labels</th>\n",
       "      <th>new_text</th>\n",
       "    </tr>\n",
       "  </thead>\n",
       "  <tbody>\n",
       "    <tr>\n",
       "      <th>18857</th>\n",
       "      <td>Right from the start you see that \"Anchors Awe...</td>\n",
       "      <td>1</td>\n",
       "      <td>right from the start you see that \"anchors awe...</td>\n",
       "    </tr>\n",
       "    <tr>\n",
       "      <th>17585</th>\n",
       "      <td>I love and admire the Farrelly brothers! How c...</td>\n",
       "      <td>1</td>\n",
       "      <td>i love and admire the farrelly brothers! how c...</td>\n",
       "    </tr>\n",
       "    <tr>\n",
       "      <th>13930</th>\n",
       "      <td>Considered by almost all the critics to be the...</td>\n",
       "      <td>1</td>\n",
       "      <td>considered by almost all the critics to be the...</td>\n",
       "    </tr>\n",
       "    <tr>\n",
       "      <th>16709</th>\n",
       "      <td>For real film people, this film is a must, sin...</td>\n",
       "      <td>1</td>\n",
       "      <td>for real film people, this film is a must, sin...</td>\n",
       "    </tr>\n",
       "    <tr>\n",
       "      <th>2919</th>\n",
       "      <td>It's like a bad s TV show got loose and tried ...</td>\n",
       "      <td>0</td>\n",
       "      <td>it is like a bad s television show got loose a...</td>\n",
       "    </tr>\n",
       "    <tr>\n",
       "      <th>21488</th>\n",
       "      <td>the fact that the movie is predictable is not ...</td>\n",
       "      <td>1</td>\n",
       "      <td>the fact that the movie is predictable is not ...</td>\n",
       "    </tr>\n",
       "    <tr>\n",
       "      <th>11303</th>\n",
       "      <td>It was a disappointment to see this DVD after ...</td>\n",
       "      <td>0</td>\n",
       "      <td>it was a disappointment to see this dvd after ...</td>\n",
       "    </tr>\n",
       "    <tr>\n",
       "      <th>22017</th>\n",
       "      <td>This film is one of the best of all time, cert...</td>\n",
       "      <td>1</td>\n",
       "      <td>this film is one of the best of all time, cert...</td>\n",
       "    </tr>\n",
       "    <tr>\n",
       "      <th>17810</th>\n",
       "      <td>I just saw \"Valentine\" and I have to say that ...</td>\n",
       "      <td>1</td>\n",
       "      <td>i just saw \"valentine\" and i have to say that ...</td>\n",
       "    </tr>\n",
       "    <tr>\n",
       "      <th>20744</th>\n",
       "      <td>I saw this film at the Taos Film Festival last...</td>\n",
       "      <td>1</td>\n",
       "      <td>i saw this film at the taos film festival last...</td>\n",
       "    </tr>\n",
       "    <tr>\n",
       "      <th>21732</th>\n",
       "      <td>I came across An Insomniac's Nightmare while l...</td>\n",
       "      <td>1</td>\n",
       "      <td>i came across an insomniac's nightmare while l...</td>\n",
       "    </tr>\n",
       "    <tr>\n",
       "      <th>12064</th>\n",
       "      <td>I started watching this movie expecting some b...</td>\n",
       "      <td>0</td>\n",
       "      <td>i started watching this movie expecting some b...</td>\n",
       "    </tr>\n",
       "    <tr>\n",
       "      <th>6865</th>\n",
       "      <td>If you're after the real story of early Baroqu...</td>\n",
       "      <td>0</td>\n",
       "      <td>if you are after the real story of early baroq...</td>\n",
       "    </tr>\n",
       "    <tr>\n",
       "      <th>6305</th>\n",
       "      <td>A film about the Harlem Renaissance and one au...</td>\n",
       "      <td>0</td>\n",
       "      <td>a film about the harlem renaissance and one au...</td>\n",
       "    </tr>\n",
       "    <tr>\n",
       "      <th>8213</th>\n",
       "      <td>Gymkata is without a doubt one of the worst mo...</td>\n",
       "      <td>0</td>\n",
       "      <td>gymkata is without a doubt one of the worst mo...</td>\n",
       "    </tr>\n",
       "  </tbody>\n",
       "</table>\n",
       "</div>"
      ],
      "text/plain": [
       "                                                   Texts  Labels  \\\n",
       "18857  Right from the start you see that \"Anchors Awe...       1   \n",
       "17585  I love and admire the Farrelly brothers! How c...       1   \n",
       "13930  Considered by almost all the critics to be the...       1   \n",
       "16709  For real film people, this film is a must, sin...       1   \n",
       "2919   It's like a bad s TV show got loose and tried ...       0   \n",
       "21488  the fact that the movie is predictable is not ...       1   \n",
       "11303  It was a disappointment to see this DVD after ...       0   \n",
       "22017  This film is one of the best of all time, cert...       1   \n",
       "17810  I just saw \"Valentine\" and I have to say that ...       1   \n",
       "20744  I saw this film at the Taos Film Festival last...       1   \n",
       "21732  I came across An Insomniac's Nightmare while l...       1   \n",
       "12064  I started watching this movie expecting some b...       0   \n",
       "6865   If you're after the real story of early Baroqu...       0   \n",
       "6305   A film about the Harlem Renaissance and one au...       0   \n",
       "8213   Gymkata is without a doubt one of the worst mo...       0   \n",
       "\n",
       "                                                new_text  \n",
       "18857  right from the start you see that \"anchors awe...  \n",
       "17585  i love and admire the farrelly brothers! how c...  \n",
       "13930  considered by almost all the critics to be the...  \n",
       "16709  for real film people, this film is a must, sin...  \n",
       "2919   it is like a bad s television show got loose a...  \n",
       "21488  the fact that the movie is predictable is not ...  \n",
       "11303  it was a disappointment to see this dvd after ...  \n",
       "22017  this film is one of the best of all time, cert...  \n",
       "17810  i just saw \"valentine\" and i have to say that ...  \n",
       "20744  i saw this film at the taos film festival last...  \n",
       "21732  i came across an insomniac's nightmare while l...  \n",
       "12064  i started watching this movie expecting some b...  \n",
       "6865   if you are after the real story of early baroq...  \n",
       "6305   a film about the harlem renaissance and one au...  \n",
       "8213   gymkata is without a doubt one of the worst mo...  "
      ]
     },
     "execution_count": 12,
     "metadata": {},
     "output_type": "execute_result"
    }
   ],
   "source": [
    "# Expanding contractions\n",
    "slang = pd.read_csv('../Data/slang.csv', index_col = 'Unnamed: 0')\n",
    "slang.head()\n",
    "\n",
    "slang_columns = list(slang.columns)\n",
    "\n",
    "def replace_slang(text):\n",
    "    text = text.lower()\n",
    "    mylis = text.split()\n",
    "    new = []\n",
    "    for i in mylis:\n",
    "        if isinstance(i, str):\n",
    "            if i in slang_columns:\n",
    "                new.append(slang[i].loc[i[0]])\n",
    "            else:\n",
    "                new.append(i)\n",
    "        else:\n",
    "            continue\n",
    "    text = ' '.join(new)\n",
    "    return text\n",
    "\n",
    "data['new_text'] = data['Texts'].apply(replace_slang)\n",
    "data.head(15)"
   ]
  },
  {
   "cell_type": "code",
   "execution_count": 13,
   "metadata": {},
   "outputs": [
    {
     "data": {
      "text/plain": [
       "\"This film lacked something I couldn't put my finger on at first: charisma on the part of the leading actress. This inevitably translated to lack of chemistry when she shared the screen with her leading man. Even the romantic scenes came across as being merely the actors at play. It could very well have been the director who miscalculated what he needed from the actors. I just don't know.But could it have been the screenplay? Just exactly who was the chef in love with? He seemed more enamored of his culinary skills and restaurant, and ultimately of himself and his youthful exploits, than of anybody or anything else. He never convinced me he was in love with the princess.I was disappointed in this movie. But, don't forget it was nominated for an Oscar, so judge for yourself.\""
      ]
     },
     "execution_count": 13,
     "metadata": {},
     "output_type": "execute_result"
    }
   ],
   "source": [
    "data['Texts'][2]"
   ]
  },
  {
   "cell_type": "code",
   "execution_count": 14,
   "metadata": {},
   "outputs": [
    {
     "data": {
      "text/plain": [
       "'this film lacked something i could not put my finger on at first: charisma on the part of the leading actress. this inevitably translated to lack of chemistry when she shared the screen with her leading man. even the romantic scenes came across as being merely the actors at play. it could very well have been the director who miscalculated what he needed from the actors. i just do not know.but could it have been the screenplay? just exactly who was the chef in love with? he seemed more enamored of his culinary skills and restaurant, and ultimately of himself and his youthful exploits, than of anybody or anything else. he never convinced me he was in love with the princess.i was disappointed in this movie. but, do not forget it was nominated for an oscar, so judge for yourself.'"
      ]
     },
     "execution_count": 14,
     "metadata": {},
     "output_type": "execute_result"
    }
   ],
   "source": [
    "data['new_text'][2]"
   ]
  },
  {
   "cell_type": "code",
   "execution_count": 15,
   "metadata": {},
   "outputs": [
    {
     "data": {
      "text/plain": [
       "Index(['Texts', 'Labels', 'Text'], dtype='object')"
      ]
     },
     "execution_count": 15,
     "metadata": {},
     "output_type": "execute_result"
    }
   ],
   "source": [
    "data.columns = data.columns.map({'Texts' : 'Texts',\"Labels\": \"Labels\", 'new_text': 'Text'})\n",
    "data.head(3)\n",
    "\n",
    "data.columns"
   ]
  },
  {
   "cell_type": "code",
   "execution_count": 16,
   "metadata": {},
   "outputs": [
    {
     "data": {
      "text/html": [
       "<div>\n",
       "<style scoped>\n",
       "    .dataframe tbody tr th:only-of-type {\n",
       "        vertical-align: middle;\n",
       "    }\n",
       "\n",
       "    .dataframe tbody tr th {\n",
       "        vertical-align: top;\n",
       "    }\n",
       "\n",
       "    .dataframe thead th {\n",
       "        text-align: right;\n",
       "    }\n",
       "</style>\n",
       "<table border=\"1\" class=\"dataframe\">\n",
       "  <thead>\n",
       "    <tr style=\"text-align: right;\">\n",
       "      <th></th>\n",
       "      <th>Texts</th>\n",
       "      <th>Labels</th>\n",
       "      <th>Text</th>\n",
       "    </tr>\n",
       "  </thead>\n",
       "  <tbody>\n",
       "    <tr>\n",
       "      <th>18857</th>\n",
       "      <td>right from the start you see that anchors awei...</td>\n",
       "      <td>1</td>\n",
       "      <td>right from the start you see that \"anchors awe...</td>\n",
       "    </tr>\n",
       "    <tr>\n",
       "      <th>17585</th>\n",
       "      <td>i love and admire the farrelly brothers how co...</td>\n",
       "      <td>1</td>\n",
       "      <td>i love and admire the farrelly brothers! how c...</td>\n",
       "    </tr>\n",
       "    <tr>\n",
       "      <th>13930</th>\n",
       "      <td>considered by almost all the critics to be the...</td>\n",
       "      <td>1</td>\n",
       "      <td>considered by almost all the critics to be the...</td>\n",
       "    </tr>\n",
       "    <tr>\n",
       "      <th>16709</th>\n",
       "      <td>for real film people this film is a must since...</td>\n",
       "      <td>1</td>\n",
       "      <td>for real film people, this film is a must, sin...</td>\n",
       "    </tr>\n",
       "    <tr>\n",
       "      <th>2919</th>\n",
       "      <td>it s like a bad s tv show got loose and tried ...</td>\n",
       "      <td>0</td>\n",
       "      <td>it is like a bad s television show got loose a...</td>\n",
       "    </tr>\n",
       "  </tbody>\n",
       "</table>\n",
       "</div>"
      ],
      "text/plain": [
       "                                                   Texts  Labels  \\\n",
       "18857  right from the start you see that anchors awei...       1   \n",
       "17585  i love and admire the farrelly brothers how co...       1   \n",
       "13930  considered by almost all the critics to be the...       1   \n",
       "16709  for real film people this film is a must since...       1   \n",
       "2919   it s like a bad s tv show got loose and tried ...       0   \n",
       "\n",
       "                                                    Text  \n",
       "18857  right from the start you see that \"anchors awe...  \n",
       "17585  i love and admire the farrelly brothers! how c...  \n",
       "13930  considered by almost all the critics to be the...  \n",
       "16709  for real film people, this film is a must, sin...  \n",
       "2919   it is like a bad s television show got loose a...  "
      ]
     },
     "execution_count": 16,
     "metadata": {},
     "output_type": "execute_result"
    }
   ],
   "source": [
    "# Clean Text\n",
    "import string\n",
    "\n",
    "def clean(text):\n",
    "    \n",
    "    mylist = [' ' if alpha in list(string.punctuation) else alpha for alpha in text ]\n",
    "    text = ''.join(mylist)\n",
    "    text = text.replace('  ', ' ')\n",
    "    text = text.replace('  ', ' ')\n",
    "    text = text.lower().strip()\n",
    "    return text\n",
    "\n",
    "data['Texts'] = data['Texts'].apply(clean)\n",
    "data.head() "
   ]
  },
  {
   "cell_type": "code",
   "execution_count": 18,
   "metadata": {},
   "outputs": [
    {
     "data": {
      "text/html": [
       "<div>\n",
       "<style scoped>\n",
       "    .dataframe tbody tr th:only-of-type {\n",
       "        vertical-align: middle;\n",
       "    }\n",
       "\n",
       "    .dataframe tbody tr th {\n",
       "        vertical-align: top;\n",
       "    }\n",
       "\n",
       "    .dataframe thead th {\n",
       "        text-align: right;\n",
       "    }\n",
       "</style>\n",
       "<table border=\"1\" class=\"dataframe\">\n",
       "  <thead>\n",
       "    <tr style=\"text-align: right;\">\n",
       "      <th></th>\n",
       "      <th>Texts</th>\n",
       "      <th>Labels</th>\n",
       "      <th>Text</th>\n",
       "    </tr>\n",
       "  </thead>\n",
       "  <tbody>\n",
       "    <tr>\n",
       "      <th>18857</th>\n",
       "      <td>right from the start you see that anchors awei...</td>\n",
       "      <td>1</td>\n",
       "      <td>right from the start you see that anchors awei...</td>\n",
       "    </tr>\n",
       "    <tr>\n",
       "      <th>17585</th>\n",
       "      <td>i love and admire the farrelly brothers how co...</td>\n",
       "      <td>1</td>\n",
       "      <td>i love and admire the farrelly brothers how co...</td>\n",
       "    </tr>\n",
       "    <tr>\n",
       "      <th>13930</th>\n",
       "      <td>considered by almost all the critics to be the...</td>\n",
       "      <td>1</td>\n",
       "      <td>considered by almost all the critics to be the...</td>\n",
       "    </tr>\n",
       "    <tr>\n",
       "      <th>16709</th>\n",
       "      <td>for real film people this film is a must since...</td>\n",
       "      <td>1</td>\n",
       "      <td>for real film people this film is a must since...</td>\n",
       "    </tr>\n",
       "    <tr>\n",
       "      <th>2919</th>\n",
       "      <td>it s like a bad s tv show got loose and tried ...</td>\n",
       "      <td>0</td>\n",
       "      <td>it is like a bad s television show got loose a...</td>\n",
       "    </tr>\n",
       "  </tbody>\n",
       "</table>\n",
       "</div>"
      ],
      "text/plain": [
       "                                                   Texts  Labels  \\\n",
       "18857  right from the start you see that anchors awei...       1   \n",
       "17585  i love and admire the farrelly brothers how co...       1   \n",
       "13930  considered by almost all the critics to be the...       1   \n",
       "16709  for real film people this film is a must since...       1   \n",
       "2919   it s like a bad s tv show got loose and tried ...       0   \n",
       "\n",
       "                                                    Text  \n",
       "18857  right from the start you see that anchors awei...  \n",
       "17585  i love and admire the farrelly brothers how co...  \n",
       "13930  considered by almost all the critics to be the...  \n",
       "16709  for real film people this film is a must since...  \n",
       "2919   it is like a bad s television show got loose a...  "
      ]
     },
     "execution_count": 18,
     "metadata": {},
     "output_type": "execute_result"
    }
   ],
   "source": [
    "data['Text'] = data['Text'].apply(clean)\n",
    "data.head() "
   ]
  },
  {
   "cell_type": "code",
   "execution_count": 19,
   "metadata": {},
   "outputs": [
    {
     "data": {
      "text/plain": [
       "'story of a man who has unnatural feelings for a pig starts out with a opening scene that is a terrific example of absurd comedy a formal orchestra audience is turned into an insane violent mob by the crazy chantings of it s singers unfortunately it stays absurd the whole time with no general narrative eventually making it just too off putting even those from the era should be turned off the cryptic dialogue would make shakespeare seem easy to a third grader on a technical level it s better than you might think with some good cinematography by future great vilmos zsigmond future stars sally kirkland and frederic forrest can be seen briefly'"
      ]
     },
     "execution_count": 19,
     "metadata": {},
     "output_type": "execute_result"
    }
   ],
   "source": [
    "data['Texts'][0]"
   ]
  },
  {
   "cell_type": "code",
   "execution_count": 20,
   "metadata": {},
   "outputs": [
    {
     "data": {
      "text/plain": [
       "'story of a man who has unnatural feelings for a pig starts out with a opening scene that is a terrific example of absurd comedy a formal orchestra audience is turned into an insane violent mob by the crazy chantings of it is singers unfortunately it stays absurd the whole time with no general narrative eventually making it just too off putting even those from the era should be turned off the cryptic dialogue would make shakespeare seem easy to a third grader on a technical level it is better than you might think with some good cinematography by future great vilmos zsigmond future stars sally kirkland and frederic forrest can be seen briefly'"
      ]
     },
     "execution_count": 20,
     "metadata": {},
     "output_type": "execute_result"
    }
   ],
   "source": [
    "data['Text'][0]"
   ]
  },
  {
   "cell_type": "code",
   "execution_count": 21,
   "metadata": {},
   "outputs": [
    {
     "data": {
      "text/plain": [
       "'story man unnatural feelings pig starts opening scene terrific example absurd comedy formal orchestra audience turned insane violent mob crazy chantings singers unfortunately stays absurd whole time general narrative eventually making putting even era turned cryptic dialogue would make shakespeare seem easy third grader technical level better might think good cinematography future great vilmos zsigmond future stars sally kirkland frederic forrest seen briefly'"
      ]
     },
     "execution_count": 21,
     "metadata": {},
     "output_type": "execute_result"
    }
   ],
   "source": [
    "# Remove Stopwords\n",
    "from nltk.corpus import stopwords\n",
    "mystop = stopwords.words('english')\n",
    "\n",
    "def remove_stop_words(text):\n",
    "    text = [word  for word in text.split() if word not in mystop]\n",
    "    text = ' '.join(text)\n",
    "    return text\n",
    "\n",
    "data['Text'] = data['Text'].apply(remove_stop_words)\n",
    "data.head() \n",
    "\n",
    "data['Text'][0]"
   ]
  },
  {
   "cell_type": "code",
   "execution_count": 22,
   "metadata": {},
   "outputs": [],
   "source": [
    "data.to_csv('Cleaned_IMDB.csv')"
   ]
  },
  {
   "cell_type": "code",
   "execution_count": 23,
   "metadata": {},
   "outputs": [],
   "source": [
    "# Splitting the data\n",
    "X = data['Text']\n",
    "y = data['Labels']"
   ]
  },
  {
   "cell_type": "code",
   "execution_count": 24,
   "metadata": {},
   "outputs": [
    {
     "data": {
      "text/plain": [
       "((20000,), (5000,))"
      ]
     },
     "execution_count": 24,
     "metadata": {},
     "output_type": "execute_result"
    }
   ],
   "source": [
    "from sklearn.model_selection import train_test_split\n",
    "X_train, X_test, y_train, y_test = train_test_split(X, y, random_state = 42, train_size = 0.8)\n",
    "X_train.shape, X_test.shape"
   ]
  },
  {
   "cell_type": "code",
   "execution_count": 25,
   "metadata": {},
   "outputs": [],
   "source": [
    "from sklearn.feature_extraction.text import TfidfVectorizer\n",
    "\n",
    "tfidf = TfidfVectorizer(ngram_range = (1,2), max_features = 50000)\n",
    "tfidf.fit(X_train)\n",
    "X_train_1 = tfidf.transform(X_train)"
   ]
  },
  {
   "cell_type": "code",
   "execution_count": 26,
   "metadata": {},
   "outputs": [
    {
     "data": {
      "text/plain": [
       "(20000, 50000)"
      ]
     },
     "execution_count": 26,
     "metadata": {},
     "output_type": "execute_result"
    }
   ],
   "source": [
    "X_train_1.shape"
   ]
  },
  {
   "cell_type": "code",
   "execution_count": 27,
   "metadata": {},
   "outputs": [],
   "source": [
    "X_test_1 = tfidf.transform(X_test)"
   ]
  },
  {
   "cell_type": "code",
   "execution_count": 28,
   "metadata": {},
   "outputs": [],
   "source": [
    "from sklearn.metrics import confusion_matrix, classification_report, accuracy_score\n",
    "import matplotlib.pyplot as plt\n",
    "import seaborn as sns\n",
    "\n",
    "def evaluate_model(model):\n",
    "    \n",
    "    # Classification Report\n",
    "    y_pred = model.predict(X_test_1)\n",
    "    print(classification_report(y_pred, y_test))\n",
    "    print('*'*50)\n",
    "    \n",
    "    #Accuracy Score\n",
    "    print(\"Accuracy Score :\", accuracy_score(y_pred, y_test))\n",
    "    print(\"*\"*50)\n",
    "    \n",
    "    # Confusion Matrix Heatmap\n",
    "    cnf_matrix = confusion_matrix(y_pred, y_test)\n",
    "    labels = ['Negative', 'Positive']\n",
    "    plt.figure(figsize = (8,8))\n",
    "    sns.heatmap(cnf_matrix, \n",
    "              annot = True, \n",
    "              cmap = \"Blues\", \n",
    "              fmt = '',\n",
    "              xticklabels = labels,\n",
    "              yticklabels = labels)\n",
    "    plt.xlabel(\"Predicted values\", fontdict = {'size':14}, labelpad = 10)\n",
    "    plt.ylabel(\"Actual values\"   , fontdict = {'size':14}, labelpad = 10)\n",
    "    plt.title (\"Confusion Matrix\", fontdict = {'size':18}, pad = 20)\n",
    "    plt.show()"
   ]
  },
  {
   "cell_type": "code",
   "execution_count": 29,
   "metadata": {},
   "outputs": [],
   "source": [
    "from sklearn.svm import LinearSVC\n",
    "from sklearn.naive_bayes import BernoulliNB\n",
    "from sklearn.naive_bayes import MultinomialNB\n",
    "from sklearn.linear_model import LogisticRegression"
   ]
  },
  {
   "cell_type": "code",
   "execution_count": 30,
   "metadata": {},
   "outputs": [
    {
     "name": "stdout",
     "output_type": "stream",
     "text": [
      "              precision    recall  f1-score   support\n",
      "\n",
      "           0       0.88      0.87      0.88      2531\n",
      "           1       0.87      0.88      0.88      2469\n",
      "\n",
      "    accuracy                           0.88      5000\n",
      "   macro avg       0.88      0.88      0.88      5000\n",
      "weighted avg       0.88      0.88      0.88      5000\n",
      "\n",
      "**************************************************\n",
      "Accuracy Score : 0.8778\n",
      "**************************************************\n"
     ]
    },
    {
     "data": {
      "image/png": "[encoded data removed]",
      "text/plain": [
       "<Figure size 576x576 with 2 Axes>"
      ]
     },
     "metadata": {
      "needs_background": "light"
     },
     "output_type": "display_data"
    }
   ],
   "source": [
    "# BernoullNB\n",
    "bnb_model = BernoulliNB(alpha = 2)\n",
    "bnb_model.fit(X_train_1, y_train)\n",
    "\n",
    "evaluate_model(bnb_model)"
   ]
  },
  {
   "cell_type": "code",
   "execution_count": 31,
   "metadata": {},
   "outputs": [
    {
     "name": "stdout",
     "output_type": "stream",
     "text": [
      "              precision    recall  f1-score   support\n",
      "\n",
      "           0       0.88      0.88      0.88      2506\n",
      "           1       0.88      0.88      0.88      2494\n",
      "\n",
      "    accuracy                           0.88      5000\n",
      "   macro avg       0.88      0.88      0.88      5000\n",
      "weighted avg       0.88      0.88      0.88      5000\n",
      "\n",
      "**************************************************\n",
      "Accuracy Score : 0.8792\n",
      "**************************************************\n"
     ]
    },
    {
     "data": {
      "image/png": "[encoded data removed]",
      "text/plain": [
       "<Figure size 576x576 with 2 Axes>"
      ]
     },
     "metadata": {
      "needs_background": "light"
     },
     "output_type": "display_data"
    }
   ],
   "source": [
    "# Multinomial NB\n",
    "mnb_model = MultinomialNB(alpha = 2, fit_prior = False)\n",
    "mnb_model.fit(X_train_1, y_train)\n",
    "\n",
    "evaluate_model(mnb_model)"
   ]
  },
  {
   "cell_type": "code",
   "execution_count": 32,
   "metadata": {},
   "outputs": [
    {
     "name": "stdout",
     "output_type": "stream",
     "text": [
      "              precision    recall  f1-score   support\n",
      "\n",
      "           0       0.89      0.90      0.90      2462\n",
      "           1       0.91      0.89      0.90      2538\n",
      "\n",
      "    accuracy                           0.90      5000\n",
      "   macro avg       0.90      0.90      0.90      5000\n",
      "weighted avg       0.90      0.90      0.90      5000\n",
      "\n",
      "**************************************************\n",
      "Accuracy Score : 0.8976\n",
      "**************************************************\n"
     ]
    },
    {
     "data": {
      "image/png": "[encoded data removed]",
      "text/plain": [
       "<Figure size 576x576 with 2 Axes>"
      ]
     },
     "metadata": {
      "needs_background": "light"
     },
     "output_type": "display_data"
    }
   ],
   "source": [
    "# Linear SVC\n",
    "SVC_model = LinearSVC()\n",
    "SVC_model.fit(X_train_1, y_train)\n",
    "\n",
    "evaluate_model(SVC_model)"
   ]
  },
  {
   "cell_type": "code",
   "execution_count": 33,
   "metadata": {},
   "outputs": [
    {
     "name": "stdout",
     "output_type": "stream",
     "text": [
      "              precision    recall  f1-score   support\n",
      "\n",
      "           0       0.88      0.91      0.90      2429\n",
      "           1       0.91      0.89      0.90      2571\n",
      "\n",
      "    accuracy                           0.90      5000\n",
      "   macro avg       0.90      0.90      0.90      5000\n",
      "weighted avg       0.90      0.90      0.90      5000\n",
      "\n",
      "**************************************************\n",
      "Accuracy Score : 0.897\n",
      "**************************************************\n"
     ]
    },
    {
     "data": {
      "image/png": "[encoded data removed]",
      "text/plain": [
       "<Figure size 576x576 with 2 Axes>"
      ]
     },
     "metadata": {
      "needs_background": "light"
     },
     "output_type": "display_data"
    }
   ],
   "source": [
    "# Logistic Regression\n",
    "LR_model = LogisticRegression(C = 2, max_iter = 1000, n_jobs=-1)\n",
    "LR_model.fit(X_train_1, y_train)\n",
    "\n",
    "evaluate_model(LR_model)"
   ]
  },
  {
   "cell_type": "code",
   "execution_count": 34,
   "metadata": {},
   "outputs": [
    {
     "name": "stdout",
     "output_type": "stream",
     "text": [
      "              precision    recall  f1-score   support\n",
      "\n",
      "           0       0.87      0.88      0.88      2466\n",
      "           1       0.88      0.87      0.88      2534\n",
      "\n",
      "    accuracy                           0.88      5000\n",
      "   macro avg       0.88      0.88      0.88      5000\n",
      "weighted avg       0.88      0.88      0.88      5000\n",
      "\n",
      "**************************************************\n",
      "Accuracy Score : 0.876\n",
      "**************************************************\n"
     ]
    },
    {
     "data": {
      "image/png": "[encoded data removed]",
      "text/plain": [
       "<Figure size 576x576 with 2 Axes>"
      ]
     },
     "metadata": {
      "needs_background": "light"
     },
     "output_type": "display_data"
    }
   ],
   "source": [
    "# XGBoost\n",
    "from xgboost import XGBClassifier\n",
    "xgbc = XGBClassifier(max_depth = 6, n_estimators =1000, nthread = 3)\n",
    "xgbc.fit(X_train_1, y_train)\n",
    "evaluate_model(xgbc)"
   ]
  },
  {
   "cell_type": "code",
   "execution_count": 39,
   "metadata": {},
   "outputs": [
    {
     "name": "stdout",
     "output_type": "stream",
     "text": [
      "              precision    recall  f1-score   support\n",
      "\n",
      "           0       0.82      0.88      0.85      2336\n",
      "           1       0.89      0.83      0.86      2664\n",
      "\n",
      "    accuracy                           0.85      5000\n",
      "   macro avg       0.85      0.86      0.85      5000\n",
      "weighted avg       0.86      0.85      0.85      5000\n",
      "\n",
      "**************************************************\n",
      "Accuracy Score : 0.8536\n",
      "**************************************************\n"
     ]
    },
    {
     "data": {
      "image/png": "[encoded data removed]",
      "text/plain": [
       "<Figure size 576x576 with 2 Axes>"
      ]
     },
     "metadata": {
      "needs_background": "light"
     },
     "output_type": "display_data"
    }
   ],
   "source": [
    "# Random Forest\n",
    "from sklearn.ensemble import RandomForestClassifier \n",
    "rf = RandomForestClassifier(max_depth = 18, n_estimators=1000, random_state=42)\n",
    "rf.fit(X_train_1,y_train)\n",
    "\n",
    "evaluate_model(rf)"
   ]
  },
  {
   "cell_type": "code",
   "execution_count": null,
   "metadata": {},
   "outputs": [],
   "source": [
    "from sklearn.feature_extraction.text import CountVectorizer\n",
    "\n",
    "cv = CountVectorizer(binary=True)\n",
    "cv.fit(X_train)\n",
    "X_train_cv = cv.transform(X_train)\n",
    "X_test_cv = cv.transform(X_test)\n",
    "\n",
    "for c in [0.01, 0.05,0.2, 0.25,0.3,  0.5, 2]:\n",
    "    \n",
    "    lr = LogisticRegression(C=c)\n",
    "    lr.fit(X_train_cv, y_train)\n",
    "    y_val = lr.predict(X_test_cv)\n",
    "    print (\"Accuracy for C=%s: %s\" \n",
    "           % (c, accuracy_score(y_test, lr.predict(X_test_cv))))"
   ]
  },
  {
   "cell_type": "code",
   "execution_count": null,
   "metadata": {},
   "outputs": [],
   "source": [
    "feature_to_coef = {\n",
    "                    word: coef for word, coef in zip(\n",
    "                        cv.get_feature_names(), LR_model.coef_[0]\n",
    "                    )\n",
    "                }"
   ]
  },
  {
   "cell_type": "code",
   "execution_count": null,
   "metadata": {},
   "outputs": [],
   "source": [
    "for best_positive in sorted(feature_to_coef.items(), key=lambda x: x[1], reverse=True)[:5]:\n",
    "    print (best_positive)    "
   ]
  },
  {
   "cell_type": "code",
   "execution_count": null,
   "metadata": {},
   "outputs": [],
   "source": [
    "for best_negative in sorted(feature_to_coef.items(), key=lambda x: x[1])[:5]:\n",
    "    print (best_negative)    "
   ]
  },
  {
   "cell_type": "markdown",
   "metadata": {},
   "source": [
    "Thanks :-)"
   ]
  },
  {
   "cell_type": "code",
   "execution_count": null,
   "metadata": {},
   "outputs": [],
   "source": []
  }
 ],
 "metadata": {
  "kernelspec": {
   "display_name": "Python 3",
   "language": "python",
   "name": "python3"
  },
  "language_info": {
   "codemirror_mode": {
    "name": "ipython",
    "version": 3
   },
   "file_extension": ".py",
   "mimetype": "text/x-python",
   "name": "python",
   "nbconvert_exporter": "python",
   "pygments_lexer": "ipython3",
   "version": "3.6.10"
  }
 },
 "nbformat": 4,
 "nbformat_minor": 4
}
