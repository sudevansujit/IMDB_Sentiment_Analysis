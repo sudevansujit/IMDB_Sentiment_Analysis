{
  "nbformat": 4,
  "nbformat_minor": 0,
  "metadata": {
    "colab": {
      "name": "IMDB_Sentiment_Simple_RNN.ipynb",
      "provenance": [],
      "collapsed_sections": [],
      "authorship_tag": "ABX9TyOFJwOrmvtAOV1zUv1qRVv3",
      "include_colab_link": true
    },
    "kernelspec": {
      "name": "python3",
      "display_name": "Python 3"
    }
  },
  "cells": [
    {
      "cell_type": "markdown",
      "metadata": {
        "id": "view-in-github",
        "colab_type": "text"
      },
      "source": [
        "<a href=\"https://colab.research.google.com/github/sudevansujit/IMDB_Sentiment_Analysis/blob/master/IMDB_Sentiment_Simple_RNN.ipynb\" target=\"_parent\"><img src=\"https://colab.research.google.com/assets/colab-badge.svg\" alt=\"Open In Colab\"/></a>"
      ]
    },
    {
      "cell_type": "code",
      "metadata": {
        "id": "4notam7W-ds4",
        "colab_type": "code",
        "colab": {
          "base_uri": "https://localhost:8080/",
          "height": 223
        },
        "outputId": "b8da2139-408d-4489-fc67-1a776ac486df"
      },
      "source": [
        "from tensorflow.keras.models import Sequential\n",
        "from tensorflow.keras.layers import Embedding, SimpleRNN\n",
        "\n",
        "# One RNN Unit\n",
        "model = Sequential()\n",
        "model.add(Embedding(10000, 32))\n",
        "model.add(SimpleRNN(32))\n",
        "model.summary()"
      ],
      "execution_count": 2,
      "outputs": [
        {
          "output_type": "stream",
          "text": [
            "Model: \"sequential\"\n",
            "_________________________________________________________________\n",
            "Layer (type)                 Output Shape              Param #   \n",
            "=================================================================\n",
            "embedding (Embedding)        (None, None, 32)          320000    \n",
            "_________________________________________________________________\n",
            "simple_rnn (SimpleRNN)       (None, 32)                2080      \n",
            "=================================================================\n",
            "Total params: 322,080\n",
            "Trainable params: 322,080\n",
            "Non-trainable params: 0\n",
            "_________________________________________________________________\n"
          ],
          "name": "stdout"
        }
      ]
    },
    {
      "cell_type": "code",
      "metadata": {
        "id": "wl7PCyvp-rRj",
        "colab_type": "code",
        "colab": {
          "base_uri": "https://localhost:8080/",
          "height": 326
        },
        "outputId": "51434b29-7265-4d9b-a3cf-92e6046a65a2"
      },
      "source": [
        "# Stacking RNN and keeping things in memory\n",
        "model = Sequential()\n",
        "model.add(Embedding(10000, 32))\n",
        "model.add(SimpleRNN(32, return_sequences = True)) # Weights will remain the same\n",
        "model.add(SimpleRNN(32, return_sequences = True))\n",
        "model.add(SimpleRNN(32, return_sequences = True))\n",
        "model.add(SimpleRNN(32))\n",
        "model.summary()"
      ],
      "execution_count": 3,
      "outputs": [
        {
          "output_type": "stream",
          "text": [
            "Model: \"sequential_1\"\n",
            "_________________________________________________________________\n",
            "Layer (type)                 Output Shape              Param #   \n",
            "=================================================================\n",
            "embedding_1 (Embedding)      (None, None, 32)          320000    \n",
            "_________________________________________________________________\n",
            "simple_rnn_1 (SimpleRNN)     (None, None, 32)          2080      \n",
            "_________________________________________________________________\n",
            "simple_rnn_2 (SimpleRNN)     (None, None, 32)          2080      \n",
            "_________________________________________________________________\n",
            "simple_rnn_3 (SimpleRNN)     (None, None, 32)          2080      \n",
            "_________________________________________________________________\n",
            "simple_rnn_4 (SimpleRNN)     (None, 32)                2080      \n",
            "=================================================================\n",
            "Total params: 328,320\n",
            "Trainable params: 328,320\n",
            "Non-trainable params: 0\n",
            "_________________________________________________________________\n"
          ],
          "name": "stdout"
        }
      ]
    },
    {
      "cell_type": "code",
      "metadata": {
        "id": "7548KomU-1_n",
        "colab_type": "code",
        "colab": {
          "base_uri": "https://localhost:8080/",
          "height": 68
        },
        "outputId": "af5491ee-2084-47fa-822d-9a94c4289688"
      },
      "source": [
        "from tensorflow.keras.datasets import imdb\n",
        "from tensorflow.keras.preprocessing import sequence\n",
        "max_features = 10000\n",
        "maxlen = 500\n",
        "batch_size = 32\n",
        "print(\"Loading Data ....\")\n",
        "(X_train, y_train), (X_test, y_test) = imdb.load_data(num_words = max_features)"
      ],
      "execution_count": 4,
      "outputs": [
        {
          "output_type": "stream",
          "text": [
            "Loading Data ....\n",
            "Downloading data from https://storage.googleapis.com/tensorflow/tf-keras-datasets/imdb.npz\n",
            "17465344/17464789 [==============================] - 1s 0us/step\n"
          ],
          "name": "stdout"
        }
      ]
    },
    {
      "cell_type": "code",
      "metadata": {
        "id": "LXFJMXYc-6VR",
        "colab_type": "code",
        "colab": {
          "base_uri": "https://localhost:8080/",
          "height": 102
        },
        "outputId": "5fe031cb-488f-430e-e277-184951f48a9e"
      },
      "source": [
        "print(len(X_train), \"Train Length\")\n",
        "print(len(X_test), \"Test Length\")\n",
        "print(\"Pad Sequences (sample x time)\")\n",
        "X_train = sequence.pad_sequences(X_train, maxlen = maxlen)\n",
        "X_test = sequence.pad_sequences(X_test, maxlen = maxlen)\n",
        "print(\"Train Shape \", X_train.shape)\n",
        "print(\"Test Shape\", X_test.shape)"
      ],
      "execution_count": 5,
      "outputs": [
        {
          "output_type": "stream",
          "text": [
            "25000 Train Length\n",
            "25000 Test Length\n",
            "Pad Sequences (sample x time)\n",
            "Train Shape  (25000, 500)\n",
            "Test Shape (25000, 500)\n"
          ],
          "name": "stdout"
        }
      ]
    },
    {
      "cell_type": "code",
      "metadata": {
        "id": "XRI28g3p-9j-",
        "colab_type": "code",
        "colab": {
          "base_uri": "https://localhost:8080/",
          "height": 360
        },
        "outputId": "f2c263f5-434f-498d-9da2-8bbd83080332"
      },
      "source": [
        "from tensorflow.keras.layers import Dense\n",
        "model = Sequential()\n",
        "model.add(Embedding(max_features, 32))\n",
        "model.add(SimpleRNN(32))\n",
        "model.add(Dense(1, activation = 'sigmoid'))\n",
        "model.compile(optimizer = 'rmsprop', loss = 'binary_crossentropy', metrics = ['acc'])\n",
        "history = model.fit(X_train, y_train, epochs = 10, batch_size = 128, validation_split = 0.2)\n"
      ],
      "execution_count": 6,
      "outputs": [
        {
          "output_type": "stream",
          "text": [
            "Epoch 1/10\n",
            "157/157 [==============================] - 22s 140ms/step - loss: 0.6420 - acc: 0.6087 - val_loss: 0.4796 - val_acc: 0.8016\n",
            "Epoch 2/10\n",
            "157/157 [==============================] - 21s 135ms/step - loss: 0.3969 - acc: 0.8292 - val_loss: 0.3781 - val_acc: 0.8388\n",
            "Epoch 3/10\n",
            "157/157 [==============================] - 21s 136ms/step - loss: 0.2879 - acc: 0.8836 - val_loss: 0.4026 - val_acc: 0.8248\n",
            "Epoch 4/10\n",
            "157/157 [==============================] - 21s 136ms/step - loss: 0.2098 - acc: 0.9219 - val_loss: 0.3744 - val_acc: 0.8450\n",
            "Epoch 5/10\n",
            "157/157 [==============================] - 21s 136ms/step - loss: 0.1475 - acc: 0.9470 - val_loss: 0.4396 - val_acc: 0.8232\n",
            "Epoch 6/10\n",
            "157/157 [==============================] - 22s 137ms/step - loss: 0.0908 - acc: 0.9699 - val_loss: 0.5261 - val_acc: 0.7926\n",
            "Epoch 7/10\n",
            "157/157 [==============================] - 22s 139ms/step - loss: 0.0537 - acc: 0.9841 - val_loss: 0.5456 - val_acc: 0.8136\n",
            "Epoch 8/10\n",
            "157/157 [==============================] - 22s 138ms/step - loss: 0.0318 - acc: 0.9908 - val_loss: 0.5930 - val_acc: 0.8252\n",
            "Epoch 9/10\n",
            "157/157 [==============================] - 22s 137ms/step - loss: 0.0150 - acc: 0.9962 - val_loss: 0.6186 - val_acc: 0.8344\n",
            "Epoch 10/10\n",
            "157/157 [==============================] - 21s 137ms/step - loss: 0.0169 - acc: 0.9950 - val_loss: 0.7134 - val_acc: 0.8102\n"
          ],
          "name": "stdout"
        }
      ]
    },
    {
      "cell_type": "code",
      "metadata": {
        "id": "pOPLM15g_BOT",
        "colab_type": "code",
        "colab": {
          "base_uri": "https://localhost:8080/",
          "height": 281
        },
        "outputId": "c659325f-7c61-43a2-8e26-c529fc7bebb8"
      },
      "source": [
        "import matplotlib.pyplot as plt\n",
        "acc = history.history['acc']\n",
        "val_acc = history.history['val_acc']\n",
        "loss = history.history['loss']\n",
        "val_loss = history.history['val_loss']\n",
        "epochs = range(1, len(acc)+1)\n",
        "plt.plot(epochs, acc, 'bo', label = 'Training Acc')\n",
        "plt.plot(epochs, val_acc, 'b', label = 'Validation Acc')\n",
        "plt.title(\"Training and Validation Accuracy\")\n",
        "plt.show()"
      ],
      "execution_count": 7,
      "outputs": [
        {
          "output_type": "display_data",
          "data": {
            "image/png": "[encoded data removed]",
            "text/plain": [
              "<Figure size 432x288 with 1 Axes>"
            ]
          },
          "metadata": {
            "tags": [],
            "needs_background": "light"
          }
        }
      ]
    },
    {
      "cell_type": "code",
      "metadata": {
        "id": "7-gCVLrE_GeB",
        "colab_type": "code",
        "colab": {
          "base_uri": "https://localhost:8080/",
          "height": 281
        },
        "outputId": "d6434683-5652-444a-9cff-4395d0a85ede"
      },
      "source": [
        "plt.plot(epochs, loss, 'bo', label = 'Training Loss')\n",
        "plt.plot(epochs, val_loss, 'b', label = 'Validation Loss')\n",
        "plt.title(\"Training and Validation Loss\")\n",
        "plt.show()"
      ],
      "execution_count": 8,
      "outputs": [
        {
          "output_type": "display_data",
          "data": {
            "image/png": "[encoded data removed]",
            "text/plain": [
              "<Figure size 432x288 with 1 Axes>"
            ]
          },
          "metadata": {
            "tags": [],
            "needs_background": "light"
          }
        }
      ]
    }
  ]
}